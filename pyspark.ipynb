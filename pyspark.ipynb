{
 "cells": [
  {
   "cell_type": "code",
   "execution_count": 1,
   "metadata": {},
   "outputs": [],
   "source": [
    "df = spark \\\n",
    "        .read.format('csv')\\\n",
    "        .option('header', 'true')\\\n",
    "        .load('hdfs:///user/gpfl/beer/beer_reviews.csv')"
   ]
  },
  {
   "cell_type": "code",
   "execution_count": 2,
   "metadata": {},
   "outputs": [],
   "source": [
    "df.createOrReplaceTempView('beer')"
   ]
  },
  {
   "cell_type": "code",
   "execution_count": 4,
   "metadata": {},
   "outputs": [],
   "source": [
    "df_beer = spark.sql('select * from beer')"
   ]
  },
  {
   "cell_type": "code",
   "execution_count": 6,
   "metadata": {},
   "outputs": [
    {
     "data": {
      "text/plain": [
       "(1586614, 13)"
      ]
     },
     "execution_count": 6,
     "metadata": {},
     "output_type": "execute_result"
    }
   ],
   "source": [
    "df_beer.count(), len(df_beer.columns)"
   ]
  },
  {
   "cell_type": "code",
   "execution_count": 7,
   "metadata": {},
   "outputs": [
    {
     "name": "stdout",
     "output_type": "stream",
     "text": [
      "+--------------------+-----------+--------------+------------+-----------------+\n",
      "|        brewery_name|review_time|review_overall|review_aroma|review_appearance|\n",
      "+--------------------+-----------+--------------+------------+-----------------+\n",
      "|     Vecchio Birraio| 1234817823|           1.5|           2|              2.5|\n",
      "|     Vecchio Birraio| 1235915097|             3|         2.5|                3|\n",
      "|     Vecchio Birraio| 1235916604|             3|         2.5|                3|\n",
      "|     Vecchio Birraio| 1234725145|             3|           3|              3.5|\n",
      "|Caldera Brewing C...| 1293735206|             4|         4.5|                4|\n",
      "+--------------------+-----------+--------------+------------+-----------------+\n",
      "only showing top 5 rows\n",
      "\n",
      "+------------------+--------------------+-------------+------------+--------------------+\n",
      "|review_profilename|          beer_style|review_palate|review_taste|           beer_name|\n",
      "+------------------+--------------------+-------------+------------+--------------------+\n",
      "|           stcules|          Hefeweizen|          1.5|         1.5|        Sausa Weizen|\n",
      "|           stcules|  English Strong Ale|            3|           3|            Red Moon|\n",
      "|           stcules|Foreign / Export ...|            3|           3|Black Horse Black...|\n",
      "|           stcules|     German Pilsener|          2.5|           3|          Sausa Pils|\n",
      "|    johnmichaelsen|American Double /...|            4|         4.5|       Cauldron DIPA|\n",
      "+------------------+--------------------+-------------+------------+--------------------+\n",
      "only showing top 5 rows\n",
      "\n",
      "+--------+-----------+\n",
      "|beer_abv|beer_beerid|\n",
      "+--------+-----------+\n",
      "|       5|      47986|\n",
      "|     6.2|      48213|\n",
      "|     6.5|      48215|\n",
      "|       5|      47969|\n",
      "|     7.7|      64883|\n",
      "+--------+-----------+\n",
      "only showing top 5 rows\n",
      "\n"
     ]
    }
   ],
   "source": [
    "cols = df_beer.columns\n",
    "n_cols = len(cols)\n",
    "\n",
    "for i in range(1, n_cols, 5):\n",
    "    if i - 5 < n_cols:\n",
    "        df_beer.select(cols[i:i+5]).show(5)\n",
    "    else:\n",
    "        df_beer.select(cols[i, n_cols]).show(5)\n",
    "    "
   ]
  },
  {
   "cell_type": "markdown",
   "metadata": {},
   "source": [
    "## 1. Estilo de Cerveja mais bem avaliada"
   ]
  },
  {
   "cell_type": "code",
   "execution_count": 18,
   "metadata": {},
   "outputs": [
    {
     "name": "stdout",
     "output_type": "stream",
     "text": [
      "+--------------------------------+------------------+------------------+\n",
      "|beer_style                      |review_palate     |review_taste      |\n",
      "+--------------------------------+------------------+------------------+\n",
      "|Eisbock                         |4.113593691325573 |4.211603454750281 |\n",
      "|Quadrupel (Quad)                |4.124986177153599 |4.210908990379299 |\n",
      "|American Double / Imperial Stout|4.0986687703382305|4.187230056207475 |\n",
      "|American Wild Ale               |4.040631673597842 |4.149938181409464 |\n",
      "|Russian Imperial Stout          |4.086921982671027 |4.1495686231040665|\n",
      "|Gueuze                          |4.046679980029955 |4.127142619404227 |\n",
      "|Lambic - Unblended              |3.964991023339318 |4.124326750448833 |\n",
      "|American Double / Imperial IPA  |4.023128278493085 |4.091280226106982 |\n",
      "|Flanders Red Ale                |3.970888355342137 |4.090636254501801 |\n",
      "|Weizenbock                      |3.9907033574160646|4.077348066298343 |\n",
      "|Old Ale                         |3.9450452288648576|4.057131197714752 |\n",
      "|American Barleywine             |3.99652050284346  |4.042633193654594 |\n",
      "|American Strong Ale             |3.9555016434496792|4.033886367193614 |\n",
      "|Baltic Porter                   |3.9427065330107154|4.033269961977187 |\n",
      "|Belgian Strong Dark Ale         |3.937485096574199 |4.029250457038391 |\n",
      "|Belgian IPA                     |3.9445513591532353|4.007858231096143 |\n",
      "|Rye Beer                        |3.923000987166831 |3.9999012833168806|\n",
      "|English Barleywine              |3.931651008666521 |3.992134585973345 |\n",
      "|Wheatwine                       |3.9410339256865914|3.9771136241249327|\n",
      "|Scotch Ale / Wee Heavy          |3.8781606559256923|3.9723639699558513|\n",
      "+--------------------------------+------------------+------------------+\n",
      "only showing top 20 rows\n",
      "\n"
     ]
    }
   ],
   "source": [
    "import pyspark.sql.functions as f\n",
    "\n",
    "df_beer\\\n",
    "    .groupBy('beer_style')\\\n",
    "    .agg(f.mean('review_palate').alias('review_palate'),\n",
    "          f.mean('review_taste').alias('review_taste'))\\\n",
    "    .sort('review_taste', ascending=False)\\\n",
    "    .show(truncate=False)"
   ]
  },
  {
   "cell_type": "markdown",
   "metadata": {},
   "source": [
    "## 2. Cerveja mais bem avaliada"
   ]
  },
  {
   "cell_type": "code",
   "execution_count": 38,
   "metadata": {},
   "outputs": [
    {
     "name": "stdout",
     "output_type": "stream",
     "text": [
      "+---------------------------------+--------------+\n",
      "|beer_name                        |review_overall|\n",
      "+---------------------------------+--------------+\n",
      "|Lucky Malt                       |5.0           |\n",
      "|Spruced Up Wheat                 |5.0           |\n",
      "|961 IPA (India Pale Ale)         |5.0           |\n",
      "|Snail Trail Pale                 |5.0           |\n",
      "|Black Opal IPA                   |5.0           |\n",
      "|Edsten Double Plus               |5.0           |\n",
      "|Nine Tailed Fox                  |5.0           |\n",
      "|Saint Slater Irish Stout         |5.0           |\n",
      "|3 Threads                        |5.0           |\n",
      "|Double Bubble DIPA With Bubblegum|5.0           |\n",
      "+---------------------------------+--------------+\n",
      "only showing top 10 rows\n",
      "\n"
     ]
    }
   ],
   "source": [
    "df_beer.groupby('beer_name')\\\n",
    "       .agg(f.mean('review_overall').alias('review_overall'))\\\n",
    "       .sort('review_overall', ascending=False)\\\n",
    "       .show(10, truncate=False)"
   ]
  },
  {
   "cell_type": "markdown",
   "metadata": {},
   "source": [
    "## 3. Cervejaria melhor avaliada"
   ]
  },
  {
   "cell_type": "code",
   "execution_count": 34,
   "metadata": {},
   "outputs": [
    {
     "name": "stdout",
     "output_type": "stream",
     "text": [
      "+-----------------------------+------------+\n",
      "|brewery_name                 |review_taste|\n",
      "+-----------------------------+------------+\n",
      "|Hakone Beer                  |5.0         |\n",
      "|Elizabeth Street Brewery     |5.0         |\n",
      "|Thai Me Up                   |5.0         |\n",
      "|Binghams Brewery             |5.0         |\n",
      "|Rascal Creek Brewing Co.     |5.0         |\n",
      "|Ludwig Roth Bierbrauerei GmbH|5.0         |\n",
      "|The Cellar Grill             |5.0         |\n",
      "|Sherlock's Home              |4.9         |\n",
      "|Edsten Brewing Company       |4.75        |\n",
      "|Sair Inn                     |4.75        |\n",
      "+-----------------------------+------------+\n",
      "only showing top 10 rows\n",
      "\n"
     ]
    }
   ],
   "source": [
    "df_beer.groupby('brewery_name')\\\n",
    "       .agg(f.mean('review_taste').alias('review_taste'))\\\n",
    "       .sort('review_taste', ascending=False)\\\n",
    "       .show(10, truncate=False)"
   ]
  },
  {
   "cell_type": "code",
   "execution_count": null,
   "metadata": {},
   "outputs": [],
   "source": []
  }
 ],
 "metadata": {
  "kernelspec": {
   "display_name": "Python 3",
   "language": "python",
   "name": "python3"
  },
  "language_info": {
   "codemirror_mode": {
    "name": "ipython",
    "version": 3
   },
   "file_extension": ".py",
   "mimetype": "text/x-python",
   "name": "python",
   "nbconvert_exporter": "python",
   "pygments_lexer": "ipython3",
   "version": "3.6.9"
  }
 },
 "nbformat": 4,
 "nbformat_minor": 4
}
